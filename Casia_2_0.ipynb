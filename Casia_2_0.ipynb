{
  "nbformat": 4,
  "nbformat_minor": 0,
  "metadata": {
    "colab": {
      "provenance": [],
      "mount_file_id": "1JPYFM0yRX8ZhL6Nc1DTpck0hNk1fhFbr",
      "authorship_tag": "ABX9TyNAVVTEtiRQz3Wk0izwpfAR",
      "include_colab_link": true
    },
    "kernelspec": {
      "name": "python3",
      "display_name": "Python 3"
    },
    "language_info": {
      "name": "python"
    }
  },
  "cells": [
    {
      "cell_type": "markdown",
      "metadata": {
        "id": "view-in-github",
        "colab_type": "text"
      },
      "source": [
        "<a href=\"https://colab.research.google.com/github/Ankitkumar1015/casia2.0/blob/main/Casia_2_0.ipynb\" target=\"_parent\"><img src=\"https://colab.research.google.com/assets/colab-badge.svg\" alt=\"Open In Colab\"/></a>"
      ]
    },
    {
      "cell_type": "code",
      "execution_count": 1,
      "metadata": {
        "id": "Oy854efL02wM"
      },
      "outputs": [],
      "source": [
        "import tensorflow as tf\n",
        "from tensorflow.keras.models import Sequential\n",
        "from tensorflow.keras.layers import Conv2D, MaxPooling2D, Flatten, Dense, Dropout\n",
        "from tensorflow.keras.preprocessing.image import ImageDataGenerator\n",
        "import numpy as np\n",
        "import os\n",
        "import cv2"
      ]
    },
    {
      "cell_type": "code",
      "source": [
        "data_dir = '/content/drive/MyDrive/Ml/Casia 2.0'"
      ],
      "metadata": {
        "id": "bUzxzRzp3N-L"
      },
      "execution_count": 2,
      "outputs": []
    },
    {
      "cell_type": "code",
      "source": [
        "def load_data(data_dir):\n",
        "    images = []\n",
        "    labels = []\n",
        "    for label_dir in os.listdir(data_dir):\n",
        "        label_path = os.path.join(data_dir, label_dir)\n",
        "        for image_name in os.listdir(label_path):\n",
        "            image_path = os.path.join(label_path, image_name)\n",
        "            image = cv2.imread(image_path)\n",
        "            image = cv2.resize(image, (128, 128))  # Resize images to 128x128\n",
        "            images.append(image)\n",
        "            labels.append(label_dir)\n",
        "    return np.array(images), np.array(labels)\n"
      ],
      "metadata": {
        "id": "AELjKKM7dlc7"
      },
      "execution_count": 3,
      "outputs": []
    },
    {
      "cell_type": "code",
      "source": [
        "images, labels = load_data(data_dir)"
      ],
      "metadata": {
        "id": "FMyUvcbddqrA"
      },
      "execution_count": 5,
      "outputs": []
    },
    {
      "cell_type": "code",
      "source": [
        "label_dict = {label: idx for idx, label in enumerate(np.unique(labels))}\n",
        "labels = np.array([label_dict[label] for label in labels])"
      ],
      "metadata": {
        "id": "lETdOdWwdvJ4"
      },
      "execution_count": 6,
      "outputs": []
    },
    {
      "cell_type": "code",
      "source": [
        "from sklearn.model_selection import train_test_split\n",
        "X_train, X_test, y_train, y_test = train_test_split(images, labels, test_size=0.2, random_state=42)"
      ],
      "metadata": {
        "id": "rUnDgfB7f1vx"
      },
      "execution_count": 7,
      "outputs": []
    },
    {
      "cell_type": "code",
      "source": [
        "X_train = X_train / 255.0\n",
        "X_test = X_test / 255.0"
      ],
      "metadata": {
        "id": "KdFmI9BKf7TA"
      },
      "execution_count": 8,
      "outputs": []
    },
    {
      "cell_type": "code",
      "source": [
        "y_train = tf.keras.utils.to_categorical(y_train, num_classes=len(label_dict))\n",
        "y_test = tf.keras.utils.to_categorical(y_test, num_classes=len(label_dict))"
      ],
      "metadata": {
        "id": "-mbWz3D8gBc_"
      },
      "execution_count": 9,
      "outputs": []
    },
    {
      "cell_type": "code",
      "source": [
        "model = Sequential([\n",
        "    Conv2D(32, (3, 3), activation='relu', input_shape=(128, 128, 3)),\n",
        "    MaxPooling2D((2, 2)),\n",
        "    Conv2D(64, (3, 3), activation='relu'),\n",
        "    MaxPooling2D((2, 2)),\n",
        "    Conv2D(128, (3, 3), activation='relu'),\n",
        "    MaxPooling2D((2, 2)),\n",
        "    Flatten(),\n",
        "    Dense(128, activation='relu'),\n",
        "    Dropout(0.5),\n",
        "    Dense(len(label_dict), activation='softmax')\n",
        "])"
      ],
      "metadata": {
        "id": "2tO1_WlkgGG3"
      },
      "execution_count": 10,
      "outputs": []
    },
    {
      "cell_type": "code",
      "source": [
        "model.compile(optimizer='adam', loss='categorical_crossentropy', metrics=['accuracy'])"
      ],
      "metadata": {
        "id": "2s3h-o8igMqY"
      },
      "execution_count": 11,
      "outputs": []
    },
    {
      "cell_type": "code",
      "source": [
        "datagen = ImageDataGenerator(\n",
        "    rotation_range=20,\n",
        "    width_shift_range=0.2,\n",
        "    height_shift_range=0.2,\n",
        "    horizontal_flip=True,\n",
        "    zoom_range=0.2\n",
        ")"
      ],
      "metadata": {
        "id": "6I39QtVqgQ14"
      },
      "execution_count": 12,
      "outputs": []
    },
    {
      "cell_type": "code",
      "source": [
        "history = model.fit(datagen.flow(X_train, y_train, batch_size=32), epochs=25, validation_data=(X_test, y_test))"
      ],
      "metadata": {
        "colab": {
          "base_uri": "https://localhost:8080/"
        },
        "id": "iMynuV70gVmA",
        "outputId": "0a97c0bf-2ad8-4233-dc8f-fb880a9da05e"
      },
      "execution_count": 13,
      "outputs": [
        {
          "output_type": "stream",
          "name": "stdout",
          "text": [
            "Epoch 1/25\n",
            "271/271 [==============================] - 311s 1s/step - loss: 2.1819 - accuracy: 0.1519 - val_loss: 2.1372 - val_accuracy: 0.1516\n",
            "Epoch 2/25\n",
            "271/271 [==============================] - 289s 1s/step - loss: 2.1436 - accuracy: 0.1502 - val_loss: 2.1320 - val_accuracy: 0.1419\n",
            "Epoch 3/25\n",
            "271/271 [==============================] - 318s 1s/step - loss: 2.1293 - accuracy: 0.1466 - val_loss: 2.1322 - val_accuracy: 0.1368\n",
            "Epoch 4/25\n",
            "271/271 [==============================] - 297s 1s/step - loss: 2.1303 - accuracy: 0.1448 - val_loss: 2.1356 - val_accuracy: 0.1331\n",
            "Epoch 5/25\n",
            "271/271 [==============================] - 294s 1s/step - loss: 2.1259 - accuracy: 0.1464 - val_loss: 2.1336 - val_accuracy: 0.1507\n",
            "Epoch 6/25\n",
            "271/271 [==============================] - 292s 1s/step - loss: 2.1243 - accuracy: 0.1524 - val_loss: 2.1308 - val_accuracy: 0.1540\n",
            "Epoch 7/25\n",
            "271/271 [==============================] - 292s 1s/step - loss: 2.1206 - accuracy: 0.1492 - val_loss: 2.1320 - val_accuracy: 0.1341\n",
            "Epoch 8/25\n",
            "271/271 [==============================] - 291s 1s/step - loss: 2.1215 - accuracy: 0.1569 - val_loss: 2.1532 - val_accuracy: 0.1415\n",
            "Epoch 9/25\n",
            "271/271 [==============================] - 291s 1s/step - loss: 2.1190 - accuracy: 0.1569 - val_loss: 2.1417 - val_accuracy: 0.1512\n",
            "Epoch 10/25\n",
            "271/271 [==============================] - 294s 1s/step - loss: 2.1173 - accuracy: 0.1494 - val_loss: 2.1297 - val_accuracy: 0.1410\n",
            "Epoch 11/25\n",
            "271/271 [==============================] - 293s 1s/step - loss: 2.1174 - accuracy: 0.1531 - val_loss: 2.1330 - val_accuracy: 0.1549\n",
            "Epoch 12/25\n",
            "271/271 [==============================] - 291s 1s/step - loss: 2.1166 - accuracy: 0.1428 - val_loss: 2.1297 - val_accuracy: 0.1447\n",
            "Epoch 13/25\n",
            "271/271 [==============================] - 291s 1s/step - loss: 2.1153 - accuracy: 0.1504 - val_loss: 2.1274 - val_accuracy: 0.1503\n",
            "Epoch 14/25\n",
            "271/271 [==============================] - 290s 1s/step - loss: 2.1160 - accuracy: 0.1453 - val_loss: 2.1238 - val_accuracy: 0.1378\n",
            "Epoch 15/25\n",
            "271/271 [==============================] - 289s 1s/step - loss: 2.1121 - accuracy: 0.1556 - val_loss: 2.1257 - val_accuracy: 0.1355\n",
            "Epoch 16/25\n",
            "271/271 [==============================] - 290s 1s/step - loss: 2.1099 - accuracy: 0.1518 - val_loss: 2.1216 - val_accuracy: 0.1401\n",
            "Epoch 17/25\n",
            "271/271 [==============================] - 292s 1s/step - loss: 2.1125 - accuracy: 0.1526 - val_loss: 2.1223 - val_accuracy: 0.1345\n",
            "Epoch 18/25\n",
            "271/271 [==============================] - 291s 1s/step - loss: 2.1064 - accuracy: 0.1482 - val_loss: 2.1229 - val_accuracy: 0.1331\n",
            "Epoch 19/25\n",
            "271/271 [==============================] - 289s 1s/step - loss: 2.1107 - accuracy: 0.1501 - val_loss: 2.1383 - val_accuracy: 0.1452\n",
            "Epoch 20/25\n",
            "271/271 [==============================] - 290s 1s/step - loss: 2.1045 - accuracy: 0.1431 - val_loss: 2.1232 - val_accuracy: 0.1498\n",
            "Epoch 21/25\n",
            "271/271 [==============================] - 291s 1s/step - loss: 2.1056 - accuracy: 0.1525 - val_loss: 2.1148 - val_accuracy: 0.1461\n",
            "Epoch 22/25\n",
            "271/271 [==============================] - 293s 1s/step - loss: 2.1039 - accuracy: 0.1553 - val_loss: 2.1290 - val_accuracy: 0.1294\n",
            "Epoch 23/25\n",
            "271/271 [==============================] - 287s 1s/step - loss: 2.1038 - accuracy: 0.1465 - val_loss: 2.1211 - val_accuracy: 0.1327\n",
            "Epoch 24/25\n",
            "271/271 [==============================] - 295s 1s/step - loss: 2.0998 - accuracy: 0.1508 - val_loss: 2.1155 - val_accuracy: 0.1516\n",
            "Epoch 25/25\n",
            "271/271 [==============================] - 296s 1s/step - loss: 2.1010 - accuracy: 0.1495 - val_loss: 2.1165 - val_accuracy: 0.1350\n"
          ]
        }
      ]
    },
    {
      "cell_type": "code",
      "source": [
        "test_loss, test_acc = model.evaluate(X_test, y_test)\n",
        "print(f'Test accuracy: {test_acc}')"
      ],
      "metadata": {
        "colab": {
          "base_uri": "https://localhost:8080/"
        },
        "id": "Ef6hUeFsgZ5H",
        "outputId": "24876ed7-3123-4cd9-c016-49a9533906e8"
      },
      "execution_count": 15,
      "outputs": [
        {
          "output_type": "stream",
          "name": "stdout",
          "text": [
            "68/68 [==============================] - 18s 258ms/step - loss: 2.1165 - accuracy: 0.1350\n",
            "Test accuracy: 0.13499769568443298\n"
          ]
        }
      ]
    },
    {
      "cell_type": "code",
      "source": [],
      "metadata": {
        "id": "nhoHaBGTjJVa"
      },
      "execution_count": null,
      "outputs": []
    }
  ]
}